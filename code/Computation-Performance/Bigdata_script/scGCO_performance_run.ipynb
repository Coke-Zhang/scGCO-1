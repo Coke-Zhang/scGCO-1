{
 "cells": [
  {
   "cell_type": "code",
   "execution_count": 1,
   "metadata": {
    "scrolled": true
   },
   "outputs": [],
   "source": [
    "import sys\n",
    "sys.path.append('../../source_code/')\n",
    "\n",
    "from scGCO_source import *\n",
    "\n",
    "#from scGCO import *\n",
    "import pandas as pd\n",
    "import numpy as np\n",
    "import matplotlib.pyplot as plt\n",
    "from matplotlib_venn import venn2,venn3\n",
    "%matplotlib inline\n",
    "\n",
    "import time\n",
    "%load_ext memory_profiler"
   ]
  },
  {
   "cell_type": "code",
   "execution_count": 2,
   "metadata": {},
   "outputs": [],
   "source": [
    "import warnings\n",
    "warnings.filterwarnings('ignore')\n",
    "import gc "
   ]
  },
  {
   "cell_type": "code",
   "execution_count": 3,
   "metadata": {},
   "outputs": [],
   "source": [
    "def clear():\n",
    "\n",
    "    for key, value in locals().items():\n",
    "        del locals()[key]\n",
    "    gc.collect()"
   ]
  },
  {
   "cell_type": "code",
   "execution_count": null,
   "metadata": {},
   "outputs": [],
   "source": []
  },
  {
   "cell_type": "markdown",
   "metadata": {},
   "source": [
    "### propressing input data of scGCO"
   ]
  },
  {
   "cell_type": "code",
   "execution_count": 9,
   "metadata": {},
   "outputs": [
    {
     "name": "stdout",
     "output_type": "stream",
     "text": [
      "peak memory: 217.68 MiB, increment: 9.46 MiB\n"
     ]
    }
   ],
   "source": [
    "ff='../../../data/Simulation_data/1M_cells_100genes_counts_0.csv'\n",
    "%memit data0 = pd.read_csv(ff, sep=',', index_col = 0,iterator=True)\n",
    "i=1000000\n",
    "data=data0.get_chunk(i)"
   ]
  },
  {
   "cell_type": "code",
   "execution_count": null,
   "metadata": {},
   "outputs": [],
   "source": [
    "data= data.loc[:,(data != 0).astype(int).sum(axis=0) >= 10]\n",
    "data_norm= normalize_count_cellranger(data)\n"
   ]
  },
  {
   "cell_type": "code",
   "execution_count": null,
   "metadata": {},
   "outputs": [],
   "source": [
    "\n",
    "t0=time.time()\n",
    "gmmDict= multiGMM(data_norm)\n",
    "t1=time.time()\n",
    "print(t1-t0)\n",
    "\n",
    "f=open(\"../../supple_data/1M_cells_100genes_gmmDict.plk\",'wb')\n",
    "pickle.dump(gmmDict)\n",
    "print(time.time() - t1)"
   ]
  },
  {
   "cell_type": "code",
   "execution_count": null,
   "metadata": {},
   "outputs": [],
   "source": []
  },
  {
   "cell_type": "code",
   "execution_count": null,
   "metadata": {},
   "outputs": [],
   "source": []
  },
  {
   "cell_type": "code",
   "execution_count": 5,
   "metadata": {
    "scrolled": true
   },
   "outputs": [
    {
     "name": "stderr",
     "output_type": "stream",
     "text": [
      "100%|██████████| 8/8 [00:00<00:00, 17.81it/s]\n"
     ]
    },
    {
     "name": "stdout",
     "output_type": "stream",
     "text": [
      "peak memory: 229.85 MiB, increment: 1.24 MiB\n",
      "100  time:  0.7302708625793457\n"
     ]
    },
    {
     "name": "stderr",
     "output_type": "stream",
     "text": [
      "100%|██████████| 8/8 [00:00<00:00,  9.12it/s]\n"
     ]
    },
    {
     "name": "stdout",
     "output_type": "stream",
     "text": [
      "peak memory: 231.94 MiB, increment: 1.31 MiB\n",
      "250  time:  1.160381555557251\n"
     ]
    },
    {
     "name": "stderr",
     "output_type": "stream",
     "text": [
      "100%|██████████| 8/8 [00:01<00:00,  5.44it/s]\n"
     ]
    },
    {
     "name": "stdout",
     "output_type": "stream",
     "text": [
      "peak memory: 234.95 MiB, increment: 1.67 MiB\n",
      "500  time:  1.7411181926727295\n"
     ]
    },
    {
     "name": "stderr",
     "output_type": "stream",
     "text": [
      "100%|██████████| 8/8 [00:02<00:00,  2.68it/s]\n"
     ]
    },
    {
     "name": "stdout",
     "output_type": "stream",
     "text": [
      "peak memory: 240.35 MiB, increment: 3.79 MiB\n",
      "1000  time:  3.2735602855682373\n"
     ]
    },
    {
     "name": "stderr",
     "output_type": "stream",
     "text": [
      "100%|██████████| 8/8 [00:04<00:00,  1.78it/s]\n"
     ]
    },
    {
     "name": "stdout",
     "output_type": "stream",
     "text": [
      "peak memory: 248.00 MiB, increment: 5.67 MiB\n",
      "1500  time:  4.78583836555481\n"
     ]
    },
    {
     "name": "stderr",
     "output_type": "stream",
     "text": [
      "100%|██████████| 8/8 [00:15<00:00,  1.93s/it]\n"
     ]
    },
    {
     "name": "stdout",
     "output_type": "stream",
     "text": [
      "peak memory: 268.50 MiB, increment: 14.49 MiB\n",
      "5000  time:  15.837266683578491\n"
     ]
    },
    {
     "name": "stderr",
     "output_type": "stream",
     "text": [
      "100%|██████████| 8/8 [00:32<00:00,  4.04s/it]\n"
     ]
    },
    {
     "name": "stdout",
     "output_type": "stream",
     "text": [
      "peak memory: 307.96 MiB, increment: 32.70 MiB\n",
      "10000  time:  32.93152594566345\n"
     ]
    },
    {
     "name": "stderr",
     "output_type": "stream",
     "text": [
      "100%|██████████| 8/8 [01:07<00:00,  8.45s/it]\n"
     ]
    },
    {
     "name": "stdout",
     "output_type": "stream",
     "text": [
      "peak memory: 347.89 MiB, increment: 33.71 MiB\n",
      "15000  time:  68.35161447525024\n"
     ]
    },
    {
     "name": "stderr",
     "output_type": "stream",
     "text": [
      "100%|██████████| 8/8 [03:32<00:00, 26.55s/it] \n"
     ]
    },
    {
     "name": "stdout",
     "output_type": "stream",
     "text": [
      "peak memory: 600.31 MiB, increment: 206.77 MiB\n",
      "50000  time:  214.4603304862976\n"
     ]
    },
    {
     "name": "stderr",
     "output_type": "stream",
     "text": [
      "100%|██████████| 8/8 [07:14<00:00, 54.27s/it] \n"
     ]
    },
    {
     "name": "stdout",
     "output_type": "stream",
     "text": [
      "peak memory: 987.55 MiB, increment: 411.15 MiB\n",
      "100000  time:  438.1465427875519\n"
     ]
    },
    {
     "name": "stderr",
     "output_type": "stream",
     "text": [
      "100%|██████████| 8/8 [40:14<00:00, 301.75s/it]   \n"
     ]
    },
    {
     "name": "stdout",
     "output_type": "stream",
     "text": [
      "peak memory: 3737.52 MiB, increment: 2563.14 MiB\n",
      "500000  time:  2432.1537821292877\n"
     ]
    },
    {
     "name": "stderr",
     "output_type": "stream",
     "text": [
      "100%|██████████| 8/8 [1:27:14<00:00, 654.27s/it]   \n"
     ]
    },
    {
     "name": "stdout",
     "output_type": "stream",
     "text": [
      "peak memory: 7811.83 MiB, increment: 5114.87 MiB\n",
      "1000000  time:  5271.786563158035\n"
     ]
    }
   ],
   "source": [
    "nc=[]\n",
    "tt =[]\n",
    "import time\n",
    "n_cell=[100,250,500,1000,1500,5000,10000,15000,50000,100000,500000,1000000]\n",
    "for i in n_cell:\n",
    "    ff='../../../Simulation_data/1M_cells_100genes_data_norm_0.csv'\n",
    "    data_norm0 = pd.read_csv(ff, sep=',', index_col = 0,iterator=True)\n",
    "    data_norm=data_norm0.get_chunk(i)\n",
    "\n",
    "    locs=Get_coord(data_norm)\n",
    "    \n",
    "    exp= data_norm.iloc[:,0]\n",
    "    cellGraph= create_graph_with_weight(locs, exp)\n",
    " \n",
    "    smooth_factor=10\n",
    "    start = time.time()\n",
    "    %memit result_df = identify_spatial_genes_optimize_gmm(locs,data_norm,cellGraph,gmmDict,smooth_factor)\n",
    "    end = time.time()\n",
    "    t=end-start\n",
    "    \n",
    "    nc.append(int(i))\n",
    "    tt.append(t)\n",
    "    print(i, ' time: ', t)\n",
    "    \n",
    "   \n",
    "    clear()"
   ]
  },
  {
   "cell_type": "code",
   "execution_count": 6,
   "metadata": {},
   "outputs": [
    {
     "data": {
      "text/plain": [
       "[0.7302708625793457,\n",
       " 1.160381555557251,\n",
       " 1.7411181926727295,\n",
       " 3.2735602855682373,\n",
       " 4.78583836555481,\n",
       " 15.837266683578491,\n",
       " 32.93152594566345,\n",
       " 68.35161447525024,\n",
       " 214.4603304862976,\n",
       " 438.1465427875519,\n",
       " 2432.1537821292877,\n",
       " 5271.786563158035]"
      ]
     },
     "execution_count": 6,
     "metadata": {},
     "output_type": "execute_result"
    }
   ],
   "source": [
    "tt"
   ]
  },
  {
   "cell_type": "code",
   "execution_count": 8,
   "metadata": {},
   "outputs": [],
   "source": [
    "memory= np.array([229.85, 231.94, 234.95, 240.35, 248.00, 268.50, 307.96, 347.89, 600.31, 987.55, 3737.52, 7811.83])"
   ]
  },
  {
   "cell_type": "code",
   "execution_count": 11,
   "metadata": {},
   "outputs": [],
   "source": [
    "df=pd.DataFrame({'n.cells':nc,'n.genes':100,'time(s)':tt,'memory(MiB)':memory})"
   ]
  },
  {
   "cell_type": "code",
   "execution_count": 12,
   "metadata": {},
   "outputs": [
    {
     "data": {
      "text/html": [
       "<div>\n",
       "<style scoped>\n",
       "    .dataframe tbody tr th:only-of-type {\n",
       "        vertical-align: middle;\n",
       "    }\n",
       "\n",
       "    .dataframe tbody tr th {\n",
       "        vertical-align: top;\n",
       "    }\n",
       "\n",
       "    .dataframe thead th {\n",
       "        text-align: right;\n",
       "    }\n",
       "</style>\n",
       "<table border=\"1\" class=\"dataframe\">\n",
       "  <thead>\n",
       "    <tr style=\"text-align: right;\">\n",
       "      <th></th>\n",
       "      <th>n.cells</th>\n",
       "      <th>n.genes</th>\n",
       "      <th>time(s)</th>\n",
       "      <th>memory(MiB)</th>\n",
       "    </tr>\n",
       "  </thead>\n",
       "  <tbody>\n",
       "    <tr>\n",
       "      <th>0</th>\n",
       "      <td>100</td>\n",
       "      <td>100</td>\n",
       "      <td>0.730271</td>\n",
       "      <td>229.85</td>\n",
       "    </tr>\n",
       "    <tr>\n",
       "      <th>1</th>\n",
       "      <td>250</td>\n",
       "      <td>100</td>\n",
       "      <td>1.160382</td>\n",
       "      <td>231.94</td>\n",
       "    </tr>\n",
       "    <tr>\n",
       "      <th>2</th>\n",
       "      <td>500</td>\n",
       "      <td>100</td>\n",
       "      <td>1.741118</td>\n",
       "      <td>234.95</td>\n",
       "    </tr>\n",
       "    <tr>\n",
       "      <th>3</th>\n",
       "      <td>1000</td>\n",
       "      <td>100</td>\n",
       "      <td>3.273560</td>\n",
       "      <td>240.35</td>\n",
       "    </tr>\n",
       "    <tr>\n",
       "      <th>4</th>\n",
       "      <td>1500</td>\n",
       "      <td>100</td>\n",
       "      <td>4.785838</td>\n",
       "      <td>248.00</td>\n",
       "    </tr>\n",
       "    <tr>\n",
       "      <th>5</th>\n",
       "      <td>5000</td>\n",
       "      <td>100</td>\n",
       "      <td>15.837267</td>\n",
       "      <td>268.50</td>\n",
       "    </tr>\n",
       "    <tr>\n",
       "      <th>6</th>\n",
       "      <td>10000</td>\n",
       "      <td>100</td>\n",
       "      <td>32.931526</td>\n",
       "      <td>307.96</td>\n",
       "    </tr>\n",
       "    <tr>\n",
       "      <th>7</th>\n",
       "      <td>15000</td>\n",
       "      <td>100</td>\n",
       "      <td>68.351614</td>\n",
       "      <td>347.89</td>\n",
       "    </tr>\n",
       "    <tr>\n",
       "      <th>8</th>\n",
       "      <td>50000</td>\n",
       "      <td>100</td>\n",
       "      <td>214.460330</td>\n",
       "      <td>600.31</td>\n",
       "    </tr>\n",
       "    <tr>\n",
       "      <th>9</th>\n",
       "      <td>100000</td>\n",
       "      <td>100</td>\n",
       "      <td>438.146543</td>\n",
       "      <td>987.55</td>\n",
       "    </tr>\n",
       "    <tr>\n",
       "      <th>10</th>\n",
       "      <td>500000</td>\n",
       "      <td>100</td>\n",
       "      <td>2432.153782</td>\n",
       "      <td>3737.52</td>\n",
       "    </tr>\n",
       "    <tr>\n",
       "      <th>11</th>\n",
       "      <td>1000000</td>\n",
       "      <td>100</td>\n",
       "      <td>5271.786563</td>\n",
       "      <td>7811.83</td>\n",
       "    </tr>\n",
       "  </tbody>\n",
       "</table>\n",
       "</div>"
      ],
      "text/plain": [
       "    n.cells  n.genes      time(s)  memory(MiB)\n",
       "0       100      100     0.730271       229.85\n",
       "1       250      100     1.160382       231.94\n",
       "2       500      100     1.741118       234.95\n",
       "3      1000      100     3.273560       240.35\n",
       "4      1500      100     4.785838       248.00\n",
       "5      5000      100    15.837267       268.50\n",
       "6     10000      100    32.931526       307.96\n",
       "7     15000      100    68.351614       347.89\n",
       "8     50000      100   214.460330       600.31\n",
       "9    100000      100   438.146543       987.55\n",
       "10   500000      100  2432.153782      3737.52\n",
       "11  1000000      100  5271.786563      7811.83"
      ]
     },
     "execution_count": 12,
     "metadata": {},
     "output_type": "execute_result"
    }
   ],
   "source": [
    "df"
   ]
  },
  {
   "cell_type": "code",
   "execution_count": null,
   "metadata": {},
   "outputs": [],
   "source": []
  }
 ],
 "metadata": {
  "kernelspec": {
   "display_name": "Python 3",
   "language": "python",
   "name": "python3"
  },
  "language_info": {
   "codemirror_mode": {
    "name": "ipython",
    "version": 3
   },
   "file_extension": ".py",
   "mimetype": "text/x-python",
   "name": "python",
   "nbconvert_exporter": "python",
   "pygments_lexer": "ipython3",
   "version": "3.7.1"
  }
 },
 "nbformat": 4,
 "nbformat_minor": 2
}
